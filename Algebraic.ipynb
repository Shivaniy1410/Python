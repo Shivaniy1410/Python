{
 "cells": [
  {
   "cell_type": "code",
   "execution_count": 3,
   "id": "f247d110-4f5b-476f-9c9e-69a794aead25",
   "metadata": {},
   "outputs": [
    {
     "name": "stdin",
     "output_type": "stream",
     "text": [
      "Enter the number of a 5\n",
      "Enter the number of b 2\n"
     ]
    },
    {
     "name": "stdout",
     "output_type": "stream",
     "text": [
      "The formula for (a+b)**: 49\n"
     ]
    }
   ],
   "source": [
    "#Using algebraic formula (a+b**=a**2+2*a*b)\n",
    "# Input from users\n",
    "\n",
    "a= int(input(\"Enter the number of a\"))\n",
    "b= int(input(\"Enter the number of b\"))\n",
    "j= a**2+b**2+2*a*b\n",
    "print(\"The formula for (a+b)**:\",j)"
   ]
  },
  {
   "cell_type": "code",
   "execution_count": 2,
   "id": "c6b4fd5b-39a3-4c3d-8466-5a31d6fcfbdb",
   "metadata": {},
   "outputs": [
    {
     "name": "stdout",
     "output_type": "stream",
     "text": [
      "Formula for (a+b)**: 196\n"
     ]
    }
   ],
   "source": [
    "# Using algebraic formula (a+b**=a**2+2*a*b)\n",
    "\n",
    "a=6\n",
    "b=8\n",
    "j=a**2+b**2+2*a*b\n",
    "print(\"Formula for (a+b)**:\",j)"
   ]
  },
  {
   "cell_type": "code",
   "execution_count": 4,
   "id": "595ee2ef-f134-4ed5-9adb-c6cacb0cc058",
   "metadata": {},
   "outputs": [
    {
     "name": "stdin",
     "output_type": "stream",
     "text": [
      "Enter the number of a 9\n",
      "Enter the number of b 4\n"
     ]
    },
    {
     "name": "stdout",
     "output_type": "stream",
     "text": [
      "The formula for(a**-b**): -23\n"
     ]
    }
   ],
   "source": [
    "#Using algebraic formula a2 – b2 = (a – b)(a + b)\n",
    "# Input from users\n",
    "\n",
    "a=int(input(\"Enter the number of a\"))\n",
    "b=int(input(\"Enter the number of b\"))\n",
    "j=a-b* a+b\n",
    "print(\"The formula for(a**-b**):\",j)\n"
   ]
  },
  {
   "cell_type": "code",
   "execution_count": 7,
   "id": "eaa35f60-d973-467c-a6d5-818ea5804ff7",
   "metadata": {},
   "outputs": [
    {
     "name": "stdout",
     "output_type": "stream",
     "text": [
      "The formula for(a**-b**): -31\n"
     ]
    }
   ],
   "source": [
    "# Using algebraic formula a2 – b2 = (a – b)(a + b)\n",
    "\n",
    "a=5\n",
    "b=9\n",
    "j=a-b*a+b\n",
    "print(\"The formula for(a**-b**):\",j)\n"
   ]
  },
  {
   "cell_type": "code",
   "execution_count": 8,
   "id": "f011e3f6-33b0-46ae-af33-94302f06ea07",
   "metadata": {},
   "outputs": [
    {
     "name": "stdin",
     "output_type": "stream",
     "text": [
      "Enter the number of a 2\n",
      "Enter the number of b 4\n"
     ]
    },
    {
     "name": "stdout",
     "output_type": "stream",
     "text": [
      "The formula for a**+b**: 2.5\n"
     ]
    }
   ],
   "source": [
    "#Using algebraic formula a2+ b2 = (a + b)2 – 2ab\n",
    "\n",
    "a=int(input(\"Enter the number of a\"))\n",
    "b=int(input(\"Enter the number of b\"))\n",
    "j=a+b**-2*a*b\n",
    "print(\"The formula for a**+b**:\",j)"
   ]
  },
  {
   "cell_type": "code",
   "execution_count": 9,
   "id": "0fb927b4-8c8a-450c-9d30-045ce9f02b4c",
   "metadata": {},
   "outputs": [
    {
     "name": "stdout",
     "output_type": "stream",
     "text": [
      "The formula for a**+b**: 6.077922077922078\n"
     ]
    }
   ],
   "source": [
    "#Using algebraic formula a2+ b2 = (a + b)2 – 2ab\n",
    "\n",
    "a=6\n",
    "b=77\n",
    "j=a+b**-2*a*b\n",
    "print(\"The formula for a**+b**:\",j)"
   ]
  },
  {
   "cell_type": "code",
   "execution_count": 12,
   "id": "efc55376-9c45-46c0-9464-71b80701bdf8",
   "metadata": {},
   "outputs": [
    {
     "name": "stdin",
     "output_type": "stream",
     "text": [
      "Enter the number of a 5\n",
      "Enter the number of b 5\n",
      "Enter the number of c 5\n"
     ]
    },
    {
     "name": "stdout",
     "output_type": "stream",
     "text": [
      "Pythagoras theorem is a**2+b**2: 25\n"
     ]
    }
   ],
   "source": [
    "#Calculating pythagoras theorem\n",
    "# Input from users\n",
    "\n",
    "a=int(input(\"Enter the number of a\"))\n",
    "b=int(input(\"Enter the number of b\"))\n",
    "c=int(input(\"Enter the number of c\"))\n",
    "d=c**2\n",
    "print(\"Pythagoras theorem is a**2+b**2:\",d)"
   ]
  },
  {
   "cell_type": "code",
   "execution_count": null,
   "id": "cf860ff4-c940-4638-996f-2a9449acb18b",
   "metadata": {},
   "outputs": [],
   "source": []
  }
 ],
 "metadata": {
  "kernelspec": {
   "display_name": "Python 3 (ipykernel)",
   "language": "python",
   "name": "python3"
  },
  "language_info": {
   "codemirror_mode": {
    "name": "ipython",
    "version": 3
   },
   "file_extension": ".py",
   "mimetype": "text/x-python",
   "name": "python",
   "nbconvert_exporter": "python",
   "pygments_lexer": "ipython3",
   "version": "3.11.7"
  }
 },
 "nbformat": 4,
 "nbformat_minor": 5
}

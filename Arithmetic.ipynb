{
 "cells": [
  {
   "cell_type": "code",
   "execution_count": 4,
   "id": "6b651b49-7a7a-48db-b095-78a5acdc1444",
   "metadata": {},
   "outputs": [
    {
     "name": "stdin",
     "output_type": "stream",
     "text": [
      "Enter any number 50\n",
      "Enter any number 60\n"
     ]
    },
    {
     "name": "stdout",
     "output_type": "stream",
     "text": [
      "Addition of two number is: 110\n"
     ]
    }
   ],
   "source": [
    "# Addition of two numbers \n",
    "#Using Addition operation\n",
    "#Input from user\n",
    "a=int(input(\"Enter any number\"))\n",
    "b=int(input(\"Enter any number\"))\n",
    "Add = a+b\n",
    "print(\"Addition of two number is:\",Add)\n"
   ]
  },
  {
   "cell_type": "code",
   "execution_count": 1,
   "id": "3c761282-08c5-429c-9b48-c5513da363ba",
   "metadata": {},
   "outputs": [
    {
     "name": "stdout",
     "output_type": "stream",
     "text": [
      "Addition of two number is: 159\n"
     ]
    }
   ],
   "source": [
    "# Addition of two numbers\n",
    "\n",
    "a=89\n",
    "b=70\n",
    "add=a+b\n",
    "print(\"Addition of two number is:\",add)"
   ]
  },
  {
   "cell_type": "code",
   "execution_count": 1,
   "id": "ea8ac87c-323c-44d7-8dcc-1363bac2a773",
   "metadata": {},
   "outputs": [
    {
     "name": "stdin",
     "output_type": "stream",
     "text": [
      "Enter any number 50\n",
      "Enter any number 43\n"
     ]
    },
    {
     "name": "stdout",
     "output_type": "stream",
     "text": [
      "Substraction of two number is: 7\n"
     ]
    }
   ],
   "source": [
    "# Substraction of two numbers #Input from users\n",
    "\n",
    "a=int(input(\"Enter any number\"))\n",
    "b=int(input(\"Enter any number\"))\n",
    "Sub=a-b\n",
    "print(\"Substraction of two number is:\",Sub)"
   ]
  },
  {
   "cell_type": "code",
   "execution_count": 1,
   "id": "d31a8ea6-68c5-4859-ae0e-4f100f26ce14",
   "metadata": {},
   "outputs": [
    {
     "name": "stdout",
     "output_type": "stream",
     "text": [
      "substraction of number is: 35\n"
     ]
    }
   ],
   "source": [
    "a=55\n",
    "b=20\n",
    "sub=a-b\n",
    "print(\"substraction of number is:\",sub)"
   ]
  },
  {
   "cell_type": "code",
   "execution_count": 2,
   "id": "d4cf257e-57f6-4fd9-bc3d-b5d6d1da42e3",
   "metadata": {},
   "outputs": [
    {
     "name": "stdin",
     "output_type": "stream",
     "text": [
      "Enter any number 55\n",
      "Enter any number 5\n"
     ]
    },
    {
     "name": "stdout",
     "output_type": "stream",
     "text": [
      "Multiplication of number is: 275\n"
     ]
    }
   ],
   "source": [
    "#Multiplication of two numbers\n",
    "#Using multiplication operation\n",
    "#Input from user\n",
    "\n",
    "b=int(input(\"Enter any number\"))\n",
    "c=int(input(\"Enter any number\"))\n",
    "mul=b*c\n",
    "print(\"Multiplication of number is:\",mul)"
   ]
  },
  {
   "cell_type": "code",
   "execution_count": 3,
   "id": "d5ae83e3-7d09-45db-8b94-0f591133e54a",
   "metadata": {},
   "outputs": [
    {
     "name": "stdout",
     "output_type": "stream",
     "text": [
      "Multiplication of number is: 176\n"
     ]
    }
   ],
   "source": [
    "a=88\n",
    "b=2\n",
    "mul=a*b\n",
    "print(\"Multiplication of number is:\",mul)"
   ]
  },
  {
   "cell_type": "code",
   "execution_count": 4,
   "id": "d65a8c14-1327-4bca-9906-4a9a7acd6ee5",
   "metadata": {},
   "outputs": [
    {
     "name": "stdin",
     "output_type": "stream",
     "text": [
      "Enter any value 40\n",
      "Enter any value 4\n"
     ]
    },
    {
     "name": "stdout",
     "output_type": "stream",
     "text": [
      "Division of number is: 10.0\n"
     ]
    }
   ],
   "source": [
    "#Division of two numbers\n",
    "#Using division operation\n",
    "#Input from user\n",
    "\n",
    "a=int(input(\"Enter any value\"))\n",
    "b=int(input(\"Enter any value\"))\n",
    "div=a/b\n",
    "print(\"Division of number is:\",div)"
   ]
  },
  {
   "cell_type": "code",
   "execution_count": 6,
   "id": "7152f593-f90b-4c34-ad94-b4476636e1c4",
   "metadata": {},
   "outputs": [
    {
     "name": "stdout",
     "output_type": "stream",
     "text": [
      "division of number us : 5.0\n"
     ]
    }
   ],
   "source": [
    "a=15\n",
    "b=3\n",
    "div= a/b\n",
    "print(\"division of number us :\",div)"
   ]
  },
  {
   "cell_type": "code",
   "execution_count": 8,
   "id": "f3398f3d-6dc3-46d4-abe8-dbbb9c32369e",
   "metadata": {},
   "outputs": [
    {
     "name": "stdin",
     "output_type": "stream",
     "text": [
      "Enter any number 5\n",
      "Enter any number 10\n"
     ]
    },
    {
     "name": "stdout",
     "output_type": "stream",
     "text": [
      "Modulus function is executed: 5\n"
     ]
    }
   ],
   "source": [
    "#Modulus of two numbers\n",
    "#modulus operation\n",
    "#Input from user\n",
    "\n",
    "a=int(input(\"Enter any number\"))\n",
    "b=int(input(\"Enter any number\"))\n",
    "val=a%b\n",
    "print(\"Modulus function is executed:\",val)"
   ]
  },
  {
   "cell_type": "code",
   "execution_count": null,
   "id": "8c14c377-1f1f-42c4-8721-68413dd8950e",
   "metadata": {},
   "outputs": [],
   "source": [
    "# Modulus of two numbers\n",
    "a=4\n",
    "b=25\n",
    "mod=a%b\n",
    "print(\"Modulus function is executed:\","
   ]
  }
 ],
 "metadata": {
  "kernelspec": {
   "display_name": "Python 3 (ipykernel)",
   "language": "python",
   "name": "python3"
  },
  "language_info": {
   "codemirror_mode": {
    "name": "ipython",
    "version": 3
   },
   "file_extension": ".py",
   "mimetype": "text/x-python",
   "name": "python",
   "nbconvert_exporter": "python",
   "pygments_lexer": "ipython3",
   "version": "3.11.7"
  }
 },
 "nbformat": 4,
 "nbformat_minor": 5
}

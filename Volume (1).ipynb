{
 "cells": [
  {
   "cell_type": "code",
   "execution_count": 1,
   "id": "6916306a-0f01-4639-9cc2-58ccae0ffae1",
   "metadata": {},
   "outputs": [
    {
     "name": "stdin",
     "output_type": "stream",
     "text": [
      "Enter the number of r 20.4\n",
      "Enter the number of h 60.1\n"
     ]
    },
    {
     "name": "stdout",
     "output_type": "stream",
     "text": [
      "Volume of cylinder: 78535.21823999999\n"
     ]
    }
   ],
   "source": [
    "# Calculation Volume of cylinder \n",
    "#Input from users\n",
    "\n",
    "r=float(input(\"Enter the number of r\"))\n",
    "h=float(input(\"Enter the number of h\"))\n",
    "c=3.14*r**2*h\n",
    "sum=c\n",
    "print(\"Volume of cylinder:\",sum)"
   ]
  },
  {
   "cell_type": "code",
   "execution_count": 3,
   "id": "ae0b69a0-d11d-48fc-84c1-63b20cdceddd",
   "metadata": {},
   "outputs": [
    {
     "name": "stdout",
     "output_type": "stream",
     "text": [
      "Volume of cylinder: 3102.8695000000002\n"
     ]
    }
   ],
   "source": [
    "# Calculating Volume of cylinder\n",
    "\n",
    "r=14.5\n",
    "h=4.7\n",
    "c=3.14*r**2*h\n",
    "# sum=c\n",
    "print(\"Volume of cylinder:\",c)"
   ]
  },
  {
   "cell_type": "code",
   "execution_count": 5,
   "id": "1983e1f1-8523-4fe1-a9a5-39e3fdc258af",
   "metadata": {},
   "outputs": [
    {
     "name": "stdin",
     "output_type": "stream",
     "text": [
      "Enter the number of r 51.4\n"
     ]
    },
    {
     "name": "stdout",
     "output_type": "stream",
     "text": [
      "Volume of sphere is: 568535.7015466666\n"
     ]
    }
   ],
   "source": [
    "# calculating Volume of sphere \n",
    "#Input from users\n",
    "\n",
    "r=float(input(\"Enter the number of r\"))\n",
    "c=4/3*3.14*r**3\n",
    "print(\"Volume of sphere is:\",c)"
   ]
  },
  {
   "cell_type": "code",
   "execution_count": 6,
   "id": "dc910d02-694d-405e-84ca-fe05fefbeb52",
   "metadata": {},
   "outputs": [
    {
     "name": "stdout",
     "output_type": "stream",
     "text": [
      "Volume of sphere 434.67229333333336\n"
     ]
    }
   ],
   "source": [
    "# Calculating Volume of sphere\n",
    "\n",
    "r=4.7\n",
    "c=4/3*3.14*r**3\n",
    "print(\"Volume of sphere\",c)"
   ]
  },
  {
   "cell_type": "code",
   "execution_count": 7,
   "id": "de01e755-0d1b-457d-a318-90d7ed855203",
   "metadata": {},
   "outputs": [
    {
     "name": "stdin",
     "output_type": "stream",
     "text": [
      "Enter length of cuboid 5\n",
      "Enter width of cuboid 12.2\n",
      "Enter height of cuboid 12.2\n"
     ]
    },
    {
     "name": "stdout",
     "output_type": "stream",
     "text": [
      "Volume of cuboid: 744.1999999999999\n"
     ]
    }
   ],
   "source": [
    "# Calculating Volume of cuboid\n",
    "# Input from users\n",
    "\n",
    "length= int(input(\"Enter length of cuboid\"))\n",
    "width=float(input(\"Enter width of cuboid\"))\n",
    "height=float(input(\"Enter height of cuboid\"))\n",
    "v=length*width*height\n",
    "print(\"Volume of cuboid:\",v)"
   ]
  },
  {
   "cell_type": "code",
   "execution_count": 9,
   "id": "2a640020-c1d0-490b-8664-9824a3c3abec",
   "metadata": {},
   "outputs": [
    {
     "name": "stdout",
     "output_type": "stream",
     "text": [
      "Volume of cuboid: 57.75\n"
     ]
    }
   ],
   "source": [
    "# calculating Volume of cuboid\n",
    "\n",
    "lenght=6\n",
    "width=3.3\n",
    "height=3.5\n",
    "v=length*width*height\n",
    "print(\"Volume of cuboid:\",v)"
   ]
  },
  {
   "cell_type": "code",
   "execution_count": 14,
   "id": "bd20b392-d87f-40fe-ae57-e15a17d9ccf5",
   "metadata": {},
   "outputs": [
    {
     "name": "stdin",
     "output_type": "stream",
     "text": [
      "Enter length of cube 2\n"
     ]
    },
    {
     "name": "stdout",
     "output_type": "stream",
     "text": [
      "Volume of cube: 8\n"
     ]
    }
   ],
   "source": [
    "# Calculating Volume of cube\n",
    "# Input from users\n",
    "\n",
    "a=int(input(\"Enter length of cube\"))\n",
    "v=a**3\n",
    "print(\"Volume of cube:\",v)"
   ]
  },
  {
   "cell_type": "code",
   "execution_count": 20,
   "id": "ea5be5f8-ee9c-48f6-89e3-1c1b8ca18a42",
   "metadata": {},
   "outputs": [
    {
     "name": "stdout",
     "output_type": "stream",
     "text": [
      "Volume of cube: 343\n"
     ]
    }
   ],
   "source": [
    "# Calculating Volume of cube\n",
    "\n",
    "a=7\n",
    "v=a**3\n",
    "print(\"Volume of cube:\",v)\n",
    "      "
   ]
  },
  {
   "cell_type": "code",
   "execution_count": 21,
   "id": "72a5b7f7-d164-482b-b04e-3469fa640ef4",
   "metadata": {},
   "outputs": [
    {
     "name": "stdin",
     "output_type": "stream",
     "text": [
      "Enter the base of prism 4.6\n",
      "Enter the base of prism 5.8\n"
     ]
    },
    {
     "name": "stdout",
     "output_type": "stream",
     "text": [
      "Volume of prism: 26.679999999999996\n"
     ]
    }
   ],
   "source": [
    "# Calculating Volume of prism\n",
    "# Input from users\n",
    "\n",
    "Base=float(input(\"Enter the base of prism\"))\n",
    "height=float(input(\"Enter the base of prism\"))\n",
    "v=Base*height\n",
    "print(\"Volume of prism:\",v)"
   ]
  },
  {
   "cell_type": "code",
   "execution_count": 22,
   "id": "bac23f55-ce38-4ce5-8dd4-e3c46bc0914e",
   "metadata": {},
   "outputs": [
    {
     "name": "stdout",
     "output_type": "stream",
     "text": [
      "Volume of prism: 157.43999999999997\n"
     ]
    }
   ],
   "source": [
    "# Calculating Volume of prism\n",
    "\n",
    "base=19.2\n",
    "height=8.2\n",
    "v=base*height\n",
    "print(\"Volume of prism:\",v)\n",
    " "
   ]
  },
  {
   "cell_type": "code",
   "execution_count": 23,
   "id": "034a00e7-a52e-41f7-962f-1134558c5f6f",
   "metadata": {},
   "outputs": [
    {
     "name": "stdin",
     "output_type": "stream",
     "text": [
      "Enter the base of pyramid 22.1\n",
      "Enter the height of pyramid 7.4\n"
     ]
    },
    {
     "name": "stdout",
     "output_type": "stream",
     "text": [
      "Volume of pyramid is: 54.51333333333334\n"
     ]
    }
   ],
   "source": [
    "# Calculating Volume of pyramid\n",
    "# Input from users\n",
    "\n",
    "base=float(input(\"Enter the base of pyramid\"))\n",
    "height=float(input(\"Enter the height of pyramid\"))\n",
    "v=1/3*base*height\n",
    "print(\"Volume of pyramid is:\",v)"
   ]
  },
  {
   "cell_type": "code",
   "execution_count": 24,
   "id": "feaf04e3-a1c3-4e81-83fc-a2dfddbdb9d1",
   "metadata": {},
   "outputs": [
    {
     "name": "stdout",
     "output_type": "stream",
     "text": [
      "Volume of pyramid: 58.449999999999996\n"
     ]
    }
   ],
   "source": [
    "# Calculating Volume of pyramid\n",
    "\n",
    "base=50.1\n",
    "height=3.5\n",
    "v=1/3*base*height\n",
    "print(\"Volume of pyramid:\",v)"
   ]
  },
  {
   "cell_type": "code",
   "execution_count": 26,
   "id": "714b91a9-59cd-49e1-88a3-c49f854d6b0a",
   "metadata": {},
   "outputs": [
    {
     "name": "stdin",
     "output_type": "stream",
     "text": [
      "Enter the radius of right circular cone 20.8\n",
      "Enter the height of right circulat cone 14.8\n"
     ]
    },
    {
     "name": "stdout",
     "output_type": "stream",
     "text": [
      "Volume of right circular cone 644.4117333333334\n"
     ]
    }
   ],
   "source": [
    "# Calculating Volume of Right circular cone\n",
    "# Input from users\n",
    "\n",
    "radius=float(input(\"Enter the radius of right circular cone\"))\n",
    "height=float(input(\"Enter the height of right circulat cone\"))\n",
    "v=1/3*3.14*radius*2*height\n",
    "print(\"Volume of right circular cone\",v)"
   ]
  },
  {
   "cell_type": "code",
   "execution_count": 27,
   "id": "9b462e5f-148a-4392-a55d-7ff020ee5a7c",
   "metadata": {},
   "outputs": [
    {
     "name": "stdout",
     "output_type": "stream",
     "text": [
      "Volume of right circular cone 1184.2933333333333\n"
     ]
    }
   ],
   "source": [
    "# Calculating right circular cone\n",
    "\n",
    "radius=99.8\n",
    "height=17.8\n",
    "v=1/3*radius*2*height\n",
    "print(\"Volume of right circular cone\",v)"
   ]
  },
  {
   "cell_type": "code",
   "execution_count": 28,
   "id": "a90c6735-598b-4c39-9c59-421398c6cab7",
   "metadata": {},
   "outputs": [
    {
     "name": "stdin",
     "output_type": "stream",
     "text": [
      "Enter length of rectangular pyramid 9\n",
      "Enter width of rectangular pyramid 12.5\n",
      "Enter  height of rectangular pyramid 8.5\n"
     ]
    },
    {
     "name": "stdout",
     "output_type": "stream",
     "text": [
      "Volume of rectangular pyramid 318.75\n"
     ]
    }
   ],
   "source": [
    "# Calculating Rectangular pyramid\n",
    "# Input from users\n",
    "\n",
    "length=int(input(\"Enter length of rectangular pyramid\"))\n",
    "width=float(input(\"Enter width of rectangular pyramid\"))\n",
    "height=float(input(\"Enter  height of rectangular pyramid\"))\n",
    "v=1/3*length*width*height\n",
    "print(\"Volume of rectangular pyramid\",v)"
   ]
  },
  {
   "cell_type": "code",
   "execution_count": 29,
   "id": "848814ac-6b9b-4c46-a2c8-2b9af568b682",
   "metadata": {},
   "outputs": [
    {
     "name": "stdout",
     "output_type": "stream",
     "text": [
      "Volume of rectangular pyramid 37710.4\n"
     ]
    }
   ],
   "source": [
    "# Calculating rectanglar pyramid\n",
    "\n",
    "length=70\n",
    "width=16.8\n",
    "height=96.2\n",
    "v=1/3*length*width*height\n",
    "print(\"Volume of rectangular pyramid\",v)"
   ]
  },
  {
   "cell_type": "code",
   "execution_count": null,
   "id": "88ce2f43-7c73-44a5-b506-dfc887e85cc1",
   "metadata": {},
   "outputs": [],
   "source": []
  }
 ],
 "metadata": {
  "kernelspec": {
   "display_name": "Python 3 (ipykernel)",
   "language": "python",
   "name": "python3"
  },
  "language_info": {
   "codemirror_mode": {
    "name": "ipython",
    "version": 3
   },
   "file_extension": ".py",
   "mimetype": "text/x-python",
   "name": "python",
   "nbconvert_exporter": "python",
   "pygments_lexer": "ipython3",
   "version": "3.11.7"
  }
 },
 "nbformat": 4,
 "nbformat_minor": 5
}

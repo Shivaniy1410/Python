{
 "cells": [
  {
   "cell_type": "code",
   "execution_count": 2,
   "id": "e0593d23-6a49-48d1-9cc8-3074dd5e631f",
   "metadata": {},
   "outputs": [
    {
     "name": "stdin",
     "output_type": "stream",
     "text": [
      "Enter any side 5\n",
      "Enter any side 5\n"
     ]
    },
    {
     "name": "stdout",
     "output_type": "stream",
     "text": [
      "Area of square: 25\n"
     ]
    }
   ],
   "source": [
    "#Program for calculating area of square\n",
    "#Input from user\n",
    "\n",
    "a=int(input(\"Enter any side\"))\n",
    "b=int(input(\"Enter any side\"))\n",
    "area= a* b\n",
    "print(\"Area of square:\",area)"
   ]
  },
  {
   "cell_type": "code",
   "execution_count": 3,
   "id": "04ea123e-1823-4cc7-8085-cdbd1a60f444",
   "metadata": {},
   "outputs": [
    {
     "name": "stdout",
     "output_type": "stream",
     "text": [
      "Area of square: 16\n"
     ]
    }
   ],
   "source": [
    "# Calculating area of square\n",
    "\n",
    "a=4\n",
    "b=4\n",
    "area=a*b\n",
    "print(\"Area of square:\",area)"
   ]
  },
  {
   "cell_type": "code",
   "execution_count": 4,
   "id": "77142ef7-60d3-47e8-a59e-1e7bc29ad9d8",
   "metadata": {},
   "outputs": [
    {
     "name": "stdin",
     "output_type": "stream",
     "text": [
      "Enter any radius of circle 2.14\n"
     ]
    },
    {
     "name": "stdout",
     "output_type": "stream",
     "text": [
      "Area of circle: 14.379944\n"
     ]
    }
   ],
   "source": [
    "# Program for calculating area of circle\n",
    "#Input from user\n",
    "\n",
    "r=float(input(\"Enter any radius of circle\"))\n",
    "circle= 3.14*r**2\n",
    "print(\"Area of circle:\",circle)"
   ]
  },
  {
   "cell_type": "code",
   "execution_count": 5,
   "id": "3583e404-e31f-465a-9ecd-15928f62e910",
   "metadata": {},
   "outputs": [
    {
     "name": "stdout",
     "output_type": "stream",
     "text": [
      "Area of circle: 36.2984\n"
     ]
    }
   ],
   "source": [
    "# Calculating area of circle\n",
    "\n",
    "r=3.4\n",
    "circle=3.14*r**2\n",
    "print(\"Area of circle:\",circle)"
   ]
  },
  {
   "cell_type": "code",
   "execution_count": 6,
   "id": "bd087f64-c085-4522-8c0c-59b1552d6336",
   "metadata": {},
   "outputs": [
    {
     "name": "stdin",
     "output_type": "stream",
     "text": [
      "Enter any length 5\n",
      "Enter any breadth 7\n"
     ]
    },
    {
     "name": "stdout",
     "output_type": "stream",
     "text": [
      "Area of rectangle: 35\n"
     ]
    }
   ],
   "source": [
    "#Program for calculating area of rectangle\n",
    "#Input from user\n",
    "\n",
    "length=int(input(\"Enter any length\"))\n",
    "breadth=int(input(\"Enter any breadth\"))\n",
    "rectangle= length*breadth\n",
    "print(\"Area of rectangle:\",rectangle)"
   ]
  },
  {
   "cell_type": "code",
   "execution_count": 7,
   "id": "c134ff31-a30e-435c-8b4b-c4b5168e255b",
   "metadata": {},
   "outputs": [
    {
     "name": "stdout",
     "output_type": "stream",
     "text": [
      "Area of rectangle: 56\n"
     ]
    }
   ],
   "source": [
    "# Calculating area of rectangle\n",
    "\n",
    "length=8\n",
    "breadth=7\n",
    "rectangle=length*breadth\n",
    "print(\"Area of rectangle:\",rectangle)"
   ]
  },
  {
   "cell_type": "code",
   "execution_count": 8,
   "id": "b694e24d-8589-485b-91bb-a1b829185fd2",
   "metadata": {},
   "outputs": [
    {
     "name": "stdin",
     "output_type": "stream",
     "text": [
      "Enter the base 5\n",
      "Enter the height 7\n"
     ]
    },
    {
     "name": "stdout",
     "output_type": "stream",
     "text": [
      "Area of triangle: 17.5\n"
     ]
    }
   ],
   "source": [
    "#Program for calculating area of triangle\n",
    "#Input from user\n",
    "\n",
    "base=float(input(\"Enter the base\"))\n",
    "height=float(input(\"Enter the height\"))\n",
    "area=1/2*base*height\n",
    "print(\"Area of triangle:\",area)"
   ]
  },
  {
   "cell_type": "code",
   "execution_count": 9,
   "id": "1fa0e0a6-e337-42e1-9f58-397535382521",
   "metadata": {},
   "outputs": [
    {
     "name": "stdout",
     "output_type": "stream",
     "text": [
      "Area of triangle: 22.5\n"
     ]
    }
   ],
   "source": [
    "# Calculating area of triangle\n",
    "\n",
    "base=9\n",
    "height=5\n",
    "area=1/2*base*height\n",
    "print(\"Area of triangle:\",area)"
   ]
  },
  {
   "cell_type": "code",
   "execution_count": 10,
   "id": "23df9a0d-2804-4d7c-9482-38faacaf7088",
   "metadata": {},
   "outputs": [
    {
     "name": "stdin",
     "output_type": "stream",
     "text": [
      "Enter the side of a 5\n",
      "Enter the side of b 5\n",
      "Enter the side of h 5\n"
     ]
    },
    {
     "name": "stdout",
     "output_type": "stream",
     "text": [
      "Area of trapezoid: 25.0\n"
     ]
    }
   ],
   "source": [
    "#Program for calculating area of trapzoid\n",
    "#Input from user\n",
    "\n",
    "a=float(input(\"Enter the side of a\"))\n",
    "b=float(input(\"Enter the side of b\"))\n",
    "h=float(input(\"Enter the side of h\"))\n",
    "area=(a+b)*h /2\n",
    "print(\"Area of trapezoid:\",area)"
   ]
  },
  {
   "cell_type": "code",
   "execution_count": 12,
   "id": "13870bb0-a7c2-4302-aeec-a065d2a14804",
   "metadata": {},
   "outputs": [
    {
     "name": "stdout",
     "output_type": "stream",
     "text": [
      "Area of trapezoid: 32.5\n"
     ]
    }
   ],
   "source": [
    "# Calculating area of trapezoid\n",
    "\n",
    "a=7\n",
    "b=6\n",
    "c=7\n",
    "area=(a+b)*h/2\n",
    "print(\"Area of trapezoid:\",area)"
   ]
  },
  {
   "cell_type": "code",
   "execution_count": 14,
   "id": "e976ffbf-b547-4258-83c0-95c1ffcf2cf6",
   "metadata": {},
   "outputs": [
    {
     "name": "stdin",
     "output_type": "stream",
     "text": [
      "Enter the base 5\n",
      "Enter the height 3\n"
     ]
    },
    {
     "name": "stdout",
     "output_type": "stream",
     "text": [
      "Area of parallelogram: 15.0\n"
     ]
    }
   ],
   "source": [
    "# Program for calculating area of parallelogram\n",
    "# Input from user\n",
    "\n",
    "a=float(input(\"Enter the base\"))\n",
    "b=float(input(\"Enter the height\"))\n",
    "area=a*b\n",
    "print(\"Area of parallelogram:\",area)"
   ]
  },
  {
   "cell_type": "code",
   "execution_count": 17,
   "id": "23b1e2b7-35e4-4229-bc16-d5cd56d26849",
   "metadata": {},
   "outputs": [
    {
     "name": "stdout",
     "output_type": "stream",
     "text": [
      "Area of parallelogram: 27\n"
     ]
    }
   ],
   "source": [
    "# Calculating area of parallelogram\n",
    "\n",
    "a=3\n",
    "b=9\n",
    "area=a*b\n",
    "print(\"Area of parallelogram:\",area)"
   ]
  },
  {
   "cell_type": "code",
   "execution_count": 18,
   "id": "d97704bb-18da-4350-84b2-c0c4dc305c5d",
   "metadata": {},
   "outputs": [
    {
     "name": "stdin",
     "output_type": "stream",
     "text": [
      "Enter value for a 8\n",
      "Enter value for b 2\n"
     ]
    },
    {
     "name": "stdout",
     "output_type": "stream",
     "text": [
      "Area of ellipse: 50.24\n"
     ]
    }
   ],
   "source": [
    "# Program for calculating area of ellipse\n",
    "# Input from user\n",
    "\n",
    "a=int(input(\"Enter value for a\"))\n",
    "b=int(input(\"Enter value for b\"))\n",
    "area=3.14*a*b\n",
    "print(\"Area of ellipse:\",area)\n",
    "      "
   ]
  },
  {
   "cell_type": "code",
   "execution_count": 19,
   "id": "9eb445d2-e6b2-4420-966d-a0d6611c6b50",
   "metadata": {},
   "outputs": [
    {
     "name": "stdout",
     "output_type": "stream",
     "text": [
      "Area of ellipse: 75.36\n"
     ]
    }
   ],
   "source": [
    "# Calculating area of ellipse\n",
    "\n",
    "a=6\n",
    "b=4\n",
    "area=3.14*a*b\n",
    "print(\"Area of ellipse:\",area)"
   ]
  },
  {
   "cell_type": "code",
   "execution_count": null,
   "id": "7e9a201f-351e-4a5c-8eb2-11404253f8fa",
   "metadata": {},
   "outputs": [],
   "source": []
  }
 ],
 "metadata": {
  "kernelspec": {
   "display_name": "Python 3 (ipykernel)",
   "language": "python",
   "name": "python3"
  },
  "language_info": {
   "codemirror_mode": {
    "name": "ipython",
    "version": 3
   },
   "file_extension": ".py",
   "mimetype": "text/x-python",
   "name": "python",
   "nbconvert_exporter": "python",
   "pygments_lexer": "ipython3",
   "version": "3.11.7"
  }
 },
 "nbformat": 4,
 "nbformat_minor": 5
}
